{
 "cells": [
  {
   "cell_type": "markdown",
   "id": "4187dbbc",
   "metadata": {},
   "source": [
    "### Plan\n",
    "- Load mock dataset (AI generated) with 1000rows and cols as OrderDate\tProductCategory\tProductName\tQuantity\tUnitPrice\tTotalPrice\tRegion\tCustomerType\n",
    "- Drop duplicate rows\n",
    "- Define rules for each column (such as: Cannot be empty, Must be number greater than 0, or just be in same category such as regions...etc)\n",
    "- Perform data cleaning\n",
    "- Save cleaned dataset\n",
    "- Visualize \n",
    "  "
   ]
  },
  {
   "cell_type": "markdown",
   "id": "23438bad",
   "metadata": {},
   "source": [
    "### Loading data"
   ]
  },
  {
   "cell_type": "code",
   "execution_count": 106,
   "id": "3b040968",
   "metadata": {},
   "outputs": [],
   "source": [
    "# Importing libraries\n",
    "import pandas as pd\n",
    "import numpy as np"
   ]
  },
  {
   "cell_type": "code",
   "execution_count": null,
   "id": "59cf977a",
   "metadata": {},
   "outputs": [
    {
     "data": {
      "text/html": [
       "<div>\n",
       "<style scoped>\n",
       "    .dataframe tbody tr th:only-of-type {\n",
       "        vertical-align: middle;\n",
       "    }\n",
       "\n",
       "    .dataframe tbody tr th {\n",
       "        vertical-align: top;\n",
       "    }\n",
       "\n",
       "    .dataframe thead th {\n",
       "        text-align: right;\n",
       "    }\n",
       "</style>\n",
       "<table border=\"1\" class=\"dataframe\">\n",
       "  <thead>\n",
       "    <tr style=\"text-align: right;\">\n",
       "      <th></th>\n",
       "      <th>OrderDate</th>\n",
       "      <th>ProductCategory</th>\n",
       "      <th>ProductName</th>\n",
       "      <th>Quantity</th>\n",
       "      <th>UnitPrice</th>\n",
       "      <th>TotalPrice</th>\n",
       "      <th>Region</th>\n",
       "      <th>CustomerType</th>\n",
       "    </tr>\n",
       "  </thead>\n",
       "  <tbody>\n",
       "    <tr>\n",
       "      <th>0</th>\n",
       "      <td>2024-11-07</td>\n",
       "      <td>Incontinence</td>\n",
       "      <td>Absorbent Pads</td>\n",
       "      <td>7</td>\n",
       "      <td>285.71</td>\n",
       "      <td>2067.256752</td>\n",
       "      <td>Sjælland</td>\n",
       "      <td>Care Home</td>\n",
       "    </tr>\n",
       "    <tr>\n",
       "      <th>1</th>\n",
       "      <td>2024-11-11</td>\n",
       "      <td>Wound Care</td>\n",
       "      <td>Antiseptic Spray</td>\n",
       "      <td>5</td>\n",
       "      <td>261.19</td>\n",
       "      <td>1181.151323</td>\n",
       "      <td>Syddanmark</td>\n",
       "      <td>Clinic</td>\n",
       "    </tr>\n",
       "    <tr>\n",
       "      <th>2</th>\n",
       "      <td>2024-11-12</td>\n",
       "      <td>Incontinence</td>\n",
       "      <td>NaN</td>\n",
       "      <td>3</td>\n",
       "      <td>10.23</td>\n",
       "      <td>30.841349</td>\n",
       "      <td>Nordjylland</td>\n",
       "      <td>Care Home</td>\n",
       "    </tr>\n",
       "    <tr>\n",
       "      <th>3</th>\n",
       "      <td>2024-11-25</td>\n",
       "      <td>Infusion Therapy</td>\n",
       "      <td>IV Tubing Set</td>\n",
       "      <td>6</td>\n",
       "      <td>162.18</td>\n",
       "      <td>1026.772733</td>\n",
       "      <td>Syddanmark</td>\n",
       "      <td>Private</td>\n",
       "    </tr>\n",
       "    <tr>\n",
       "      <th>4</th>\n",
       "      <td>2024-11-15</td>\n",
       "      <td>Infusion Therapy</td>\n",
       "      <td>Infusion Pump</td>\n",
       "      <td>7</td>\n",
       "      <td>120.91</td>\n",
       "      <td>838.393289</td>\n",
       "      <td>Midtjylland</td>\n",
       "      <td>Clinic</td>\n",
       "    </tr>\n",
       "  </tbody>\n",
       "</table>\n",
       "</div>"
      ],
      "text/plain": [
       "    OrderDate   ProductCategory       ProductName  Quantity  UnitPrice  \\\n",
       "0  2024-11-07      Incontinence    Absorbent Pads         7     285.71   \n",
       "1  2024-11-11        Wound Care  Antiseptic Spray         5     261.19   \n",
       "2  2024-11-12      Incontinence               NaN         3      10.23   \n",
       "3  2024-11-25  Infusion Therapy     IV Tubing Set         6     162.18   \n",
       "4  2024-11-15  Infusion Therapy     Infusion Pump         7     120.91   \n",
       "\n",
       "    TotalPrice       Region CustomerType  \n",
       "0  2067.256752     Sjælland    Care Home  \n",
       "1  1181.151323   Syddanmark       Clinic  \n",
       "2    30.841349  Nordjylland    Care Home  \n",
       "3  1026.772733   Syddanmark      Private  \n",
       "4   838.393289  Midtjylland       Clinic  "
      ]
     },
     "execution_count": 107,
     "metadata": {},
     "output_type": "execute_result"
    }
   ],
   "source": [
    "# Loading dataset\n",
    "df = pd.read_csv('simulated_dataset.csv')\n",
    "\n",
    "# drop duplicates\n",
    "df = df.drop_duplicates()\n",
    "\n",
    "# Displaying first 3 rows of the dataset\n",
    "df.head(5)"
   ]
  },
  {
   "cell_type": "code",
   "execution_count": 108,
   "id": "5e7d40d5",
   "metadata": {},
   "outputs": [
    {
     "data": {
      "text/plain": [
       "OrderDate          1000\n",
       "ProductCategory    1000\n",
       "ProductName         980\n",
       "Quantity           1000\n",
       "UnitPrice           977\n",
       "TotalPrice         1000\n",
       "Region             1000\n",
       "CustomerType       1000\n",
       "dtype: int64"
      ]
     },
     "execution_count": 108,
     "metadata": {},
     "output_type": "execute_result"
    }
   ],
   "source": [
    "# display counts for each column\n",
    "df.count()"
   ]
  },
  {
   "cell_type": "markdown",
   "id": "69044d78",
   "metadata": {},
   "source": [
    "#### Column conditions\n",
    "1. OrderDate -> type date\n",
    "2. ProductCategory -> 'Diabetes', 'Nutrition', 'Incontinence',\n",
    "       'Respiratory Care', 'Stoma Care', 'Wound Care'\n",
    "3. ProductName -> String\n",
    "4. Quantity -> integer, > 0\n",
    "5. UnitPrice -> float, > 0\n",
    "6. TotalPrice -> float, >= 0 (if 0 then order is free - possible)\n",
    "7. Region -> Nordjylland', 'Sjælland', 'Midtjylland', 'Hovedstaden','Syddanmark\n",
    "8. CustomerType -> 'Private', 'Clinic', 'Hospital', 'Care Home'"
   ]
  },
  {
   "cell_type": "code",
   "execution_count": 109,
   "id": "5bd71f44",
   "metadata": {},
   "outputs": [],
   "source": [
    "# Data cleaning\n",
    "\n",
    "# Create a copy of original dataframe\n",
    "df_to_clean = df.copy()"
   ]
  },
  {
   "cell_type": "code",
   "execution_count": 110,
   "id": "ae5dea02",
   "metadata": {},
   "outputs": [],
   "source": [
    "# 1.) OrderDate\n",
    "\n",
    "# convert to datetime format, invalid/missing will be as 'NaT'\n",
    "df_to_clean['OrderDate'] = pd.to_datetime(df_to_clean['OrderDate'], errors='coerce')\n",
    "\n",
    "# delete all rows that are not valid datetime\n",
    "df_to_clean = df_to_clean[df_to_clean['OrderDate'].notna()]\n"
   ]
  },
  {
   "cell_type": "code",
   "execution_count": 111,
   "id": "79e9cbb5",
   "metadata": {},
   "outputs": [],
   "source": [
    "# 2.) ProductCategory\n",
    "\n",
    "# defining categories\n",
    "valid_ProductCategory = ['Diabetes', 'Nutrition', 'Incontinence',\n",
    "       'Respiratory Care', 'Stoma Care', 'Wound Care']\n",
    "\n",
    "# keep only rows, where row product name is valid\n",
    "df_to_clean = df_to_clean[df_to_clean['ProductCategory'].isin(valid_ProductCategory)]"
   ]
  },
  {
   "cell_type": "code",
   "execution_count": 112,
   "id": "209c7019",
   "metadata": {},
   "outputs": [],
   "source": [
    "# 3.) ProductName\n",
    "\n",
    "# drop rows with missing value\n",
    "df_to_clean = df_to_clean[df_to_clean['ProductName'].notna()]\n"
   ]
  },
  {
   "cell_type": "code",
   "execution_count": 113,
   "id": "010cb1d9",
   "metadata": {},
   "outputs": [],
   "source": [
    "# 4.) Quantity\n",
    "\n",
    "# remove rows, were quantity is not integer\n",
    "df_to_clean = df_to_clean[df_to_clean['Quantity'].map(type) == int]\n",
    "\n",
    "# remove rows, where quantity is not greater than 0\n",
    "df_to_clean = df_to_clean[df_to_clean['Quantity'] > 0]"
   ]
  },
  {
   "cell_type": "code",
   "execution_count": 114,
   "id": "e43a2211",
   "metadata": {},
   "outputs": [],
   "source": [
    "# 5.) UnitPrice\n",
    "\n",
    "# remove rows, were price is not float or integer\n",
    "df_to_clean = df_to_clean[df_to_clean['UnitPrice'].map(type).isin([int, float])]\n",
    "\n",
    "# remove rows, where price is not greater or equal to 0\n",
    "df_to_clean = df_to_clean[df_to_clean['UnitPrice'] >= 0]"
   ]
  },
  {
   "cell_type": "code",
   "execution_count": 115,
   "id": "bbbc17bf",
   "metadata": {},
   "outputs": [],
   "source": [
    "# 6.) TotalPrice\n",
    "\n",
    "# remove rows, were price is not float or integer\n",
    "df_to_clean = df_to_clean[df_to_clean['Quantity'].map(type).isin([int, float])]\n",
    "\n",
    "# remove rows, where price is not greater or equal to 0\n",
    "df_to_clean = df_to_clean[df_to_clean['Quantity'] >= 0]"
   ]
  },
  {
   "cell_type": "code",
   "execution_count": 116,
   "id": "ce0caf29",
   "metadata": {},
   "outputs": [],
   "source": [
    "# 7.) Region\n",
    "\n",
    "# keep only rows, where region is in predefined list\n",
    "valid_Regions = ['Nordjylland', 'Sjælland', 'Midtjylland', 'Hovedstaden','Syddanmark']\n",
    "\n",
    "df_to_clean = df_to_clean[df_to_clean['Region'].isin(valid_Regions)]\n"
   ]
  },
  {
   "cell_type": "code",
   "execution_count": 117,
   "id": "24875d1b",
   "metadata": {},
   "outputs": [],
   "source": [
    "# 8.) CustomerType\n",
    "\n",
    "# keep only rows, where CustomerType is in predefined list\n",
    "valid_CustomerType = ['Private', 'Clinic', 'Hospital', 'Care Home']\n",
    "\n",
    "df_to_clean = df_to_clean[df_to_clean['CustomerType'].isin(valid_CustomerType)]\n",
    "\n"
   ]
  },
  {
   "cell_type": "code",
   "execution_count": 118,
   "id": "715eb7aa",
   "metadata": {},
   "outputs": [
    {
     "data": {
      "text/plain": [
       "OrderDate          792\n",
       "ProductCategory    792\n",
       "ProductName        792\n",
       "Quantity           792\n",
       "UnitPrice          792\n",
       "TotalPrice         792\n",
       "Region             792\n",
       "CustomerType       792\n",
       "dtype: int64"
      ]
     },
     "execution_count": 118,
     "metadata": {},
     "output_type": "execute_result"
    }
   ],
   "source": [
    "### Final Check\n",
    "# number of all rows should be equal\n",
    "\n",
    "df_to_clean.count()"
   ]
  },
  {
   "cell_type": "code",
   "execution_count": 124,
   "id": "f80900d5",
   "metadata": {},
   "outputs": [
    {
     "name": "stdout",
     "output_type": "stream",
     "text": [
      "     OrderDate ProductCategory             ProductName  Quantity  UnitPrice  \\\n",
      "960 2024-02-08      Stoma Care           Adhesive Ring         2     180.49   \n",
      "890 2024-02-19       Nutrition  Nutritional Supplement         6     247.95   \n",
      "705 2024-10-16       Nutrition  Nutritional Supplement         6     126.79   \n",
      "286 2024-05-08    Incontinence          Absorbent Pads         8     191.15   \n",
      "364 2024-05-23        Diabetes             Test Strips         9      18.60   \n",
      "\n",
      "     TotalPrice       Region CustomerType  \n",
      "960      360.98  Hovedstaden     Hospital  \n",
      "890     1487.70   Syddanmark    Care Home  \n",
      "705      760.74     Sjælland     Hospital  \n",
      "286     1529.20  Midtjylland      Private  \n",
      "364      167.40     Sjælland     Hospital  \n"
     ]
    }
   ],
   "source": [
    "# print random row from df_to_clean\n",
    "print(df_to_clean.sample(5))"
   ]
  },
  {
   "cell_type": "code",
   "execution_count": 119,
   "id": "ba93a85f",
   "metadata": {},
   "outputs": [],
   "source": [
    "# Save cleaned dataset\n",
    "df_to_clean.to_csv('simulated_dataset_cleaned.csv', index=False)"
   ]
  }
 ],
 "metadata": {
  "kernelspec": {
   "display_name": "Python 3",
   "language": "python",
   "name": "python3"
  },
  "language_info": {
   "codemirror_mode": {
    "name": "ipython",
    "version": 3
   },
   "file_extension": ".py",
   "mimetype": "text/x-python",
   "name": "python",
   "nbconvert_exporter": "python",
   "pygments_lexer": "ipython3",
   "version": "3.9.6"
  }
 },
 "nbformat": 4,
 "nbformat_minor": 5
}
